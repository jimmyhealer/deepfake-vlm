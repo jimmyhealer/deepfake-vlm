{
 "cells": [
  {
   "cell_type": "code",
   "execution_count": 3,
   "metadata": {},
   "outputs": [
    {
     "ename": "FileNotFoundError",
     "evalue": "[Errno 2] No such file or directory: 'results/predictions_base_model.txt'",
     "output_type": "error",
     "traceback": [
      "\u001b[0;31m---------------------------------------------------------------------------\u001b[0m",
      "\u001b[0;31mFileNotFoundError\u001b[0m                         Traceback (most recent call last)",
      "Cell \u001b[0;32mIn[3], line 35\u001b[0m\n\u001b[1;32m     26\u001b[0m     \u001b[38;5;28;01mreturn\u001b[39;00m {\n\u001b[1;32m     27\u001b[0m         \u001b[38;5;124m\"\u001b[39m\u001b[38;5;124mverdict\u001b[39m\u001b[38;5;124m\"\u001b[39m: \u001b[38;5;241m1\u001b[39m \u001b[38;5;28;01mif\u001b[39;00m verdict \u001b[38;5;241m==\u001b[39m \u001b[38;5;124m\"\u001b[39m\u001b[38;5;124mAI-Generated\u001b[39m\u001b[38;5;124m\"\u001b[39m \u001b[38;5;28;01melse\u001b[39;00m \u001b[38;5;241m0\u001b[39m,\n\u001b[1;32m     28\u001b[0m         \u001b[38;5;66;03m# 'confidence_score': confidence_score,\u001b[39;00m\n\u001b[1;32m     29\u001b[0m         \u001b[38;5;124m'\u001b[39m\u001b[38;5;124mdetected_artifacts\u001b[39m\u001b[38;5;124m'\u001b[39m: artifacts,\n\u001b[1;32m     30\u001b[0m         \u001b[38;5;124m\"\u001b[39m\u001b[38;5;124mreasoning\u001b[39m\u001b[38;5;124m\"\u001b[39m: reasoning,\n\u001b[1;32m     31\u001b[0m     }\n\u001b[1;32m     34\u001b[0m \u001b[38;5;66;03m# Example usage with your provided XML content\u001b[39;00m\n\u001b[0;32m---> 35\u001b[0m \u001b[38;5;28;01mwith\u001b[39;00m \u001b[38;5;28;43mopen\u001b[39;49m\u001b[43m(\u001b[49m\u001b[38;5;124;43m\"\u001b[39;49m\u001b[38;5;124;43mresults/predictions_base_model.txt\u001b[39;49m\u001b[38;5;124;43m\"\u001b[39;49m\u001b[43m,\u001b[49m\u001b[43m \u001b[49m\u001b[38;5;124;43m\"\u001b[39;49m\u001b[38;5;124;43mr\u001b[39;49m\u001b[38;5;124;43m\"\u001b[39;49m\u001b[43m)\u001b[49m \u001b[38;5;28;01mas\u001b[39;00m f:\n\u001b[1;32m     36\u001b[0m     xml_content \u001b[38;5;241m=\u001b[39m f\u001b[38;5;241m.\u001b[39mread()\n\u001b[1;32m     38\u001b[0m contents \u001b[38;5;241m=\u001b[39m []\n",
      "File \u001b[0;32m~/miniforge3/envs/dl/lib/python3.12/site-packages/IPython/core/interactiveshell.py:324\u001b[0m, in \u001b[0;36m_modified_open\u001b[0;34m(file, *args, **kwargs)\u001b[0m\n\u001b[1;32m    317\u001b[0m \u001b[38;5;28;01mif\u001b[39;00m file \u001b[38;5;129;01min\u001b[39;00m {\u001b[38;5;241m0\u001b[39m, \u001b[38;5;241m1\u001b[39m, \u001b[38;5;241m2\u001b[39m}:\n\u001b[1;32m    318\u001b[0m     \u001b[38;5;28;01mraise\u001b[39;00m \u001b[38;5;167;01mValueError\u001b[39;00m(\n\u001b[1;32m    319\u001b[0m         \u001b[38;5;124mf\u001b[39m\u001b[38;5;124m\"\u001b[39m\u001b[38;5;124mIPython won\u001b[39m\u001b[38;5;124m'\u001b[39m\u001b[38;5;124mt let you open fd=\u001b[39m\u001b[38;5;132;01m{\u001b[39;00mfile\u001b[38;5;132;01m}\u001b[39;00m\u001b[38;5;124m by default \u001b[39m\u001b[38;5;124m\"\u001b[39m\n\u001b[1;32m    320\u001b[0m         \u001b[38;5;124m\"\u001b[39m\u001b[38;5;124mas it is likely to crash IPython. If you know what you are doing, \u001b[39m\u001b[38;5;124m\"\u001b[39m\n\u001b[1;32m    321\u001b[0m         \u001b[38;5;124m\"\u001b[39m\u001b[38;5;124myou can use builtins\u001b[39m\u001b[38;5;124m'\u001b[39m\u001b[38;5;124m open.\u001b[39m\u001b[38;5;124m\"\u001b[39m\n\u001b[1;32m    322\u001b[0m     )\n\u001b[0;32m--> 324\u001b[0m \u001b[38;5;28;01mreturn\u001b[39;00m \u001b[43mio_open\u001b[49m\u001b[43m(\u001b[49m\u001b[43mfile\u001b[49m\u001b[43m,\u001b[49m\u001b[43m \u001b[49m\u001b[38;5;241;43m*\u001b[39;49m\u001b[43margs\u001b[49m\u001b[43m,\u001b[49m\u001b[43m \u001b[49m\u001b[38;5;241;43m*\u001b[39;49m\u001b[38;5;241;43m*\u001b[39;49m\u001b[43mkwargs\u001b[49m\u001b[43m)\u001b[49m\n",
      "\u001b[0;31mFileNotFoundError\u001b[0m: [Errno 2] No such file or directory: 'results/predictions_base_model.txt'"
     ]
    }
   ],
   "source": [
    "import xml.etree.ElementTree as ET\n",
    "\n",
    "\n",
    "def parse_analysis_report(xml_string):\n",
    "    try:\n",
    "        root = ET.fromstring(xml_string)\n",
    "    except:\n",
    "        return {\n",
    "            \"verdict\": 1,\n",
    "            # \"confidence_score\": 0,\n",
    "            # \"detected_artifacts\": [],\n",
    "            \"reasoning\": \"unknown\",\n",
    "        }\n",
    "\n",
    "    verdict = root.find(\"verdict\").text\n",
    "    confidence_score = int(root.find(\"confidence_score\").text)\n",
    "\n",
    "    artifacts = []\n",
    "    for artifact_elem in root.findall(\".//artifact\"):\n",
    "        artifact_id = artifact_elem.find(\"id\").text\n",
    "        description = artifact_elem.find(\"description\").text\n",
    "        artifacts.append({\"id\": artifact_id, \"description\": description})\n",
    "\n",
    "    reasoning = root.find(\"reasoning\").text\n",
    "\n",
    "    return {\n",
    "        \"verdict\": 1 if verdict == \"AI-Generated\" else 0,\n",
    "        # 'confidence_score': confidence_score,\n",
    "        'detected_artifacts': artifacts,\n",
    "        \"reasoning\": reasoning,\n",
    "    }\n",
    "\n",
    "\n",
    "# Example usage with your provided XML content\n",
    "with open(\"results/predictions_base_model.txt\", \"r\") as f:\n",
    "    xml_content = f.read()\n",
    "\n",
    "contents = []\n",
    "for line in xml_content.split(\"<analysis_report>\")[1:]:\n",
    "    contents.append(\"<analysis_report>\" + line)\n",
    "\n",
    "parsed_data = [parse_analysis_report(content) for content in contents]\n",
    "\n",
    "import json\n",
    "\n",
    "with open(\"results/qwen_zero_shot.json\", \"w\") as f:\n",
    "    json.dump(parsed_data, f, indent=2, ensure_ascii=False)"
   ]
  },
  {
   "cell_type": "code",
   "execution_count": 20,
   "metadata": {},
   "outputs": [
    {
     "name": "stdout",
     "output_type": "stream",
     "text": [
      "Accuracy: 0.9089\n",
      "F1 Score: 0.9523\n"
     ]
    }
   ],
   "source": [
    "import json\n",
    "\n",
    "def f1_score(ground_truth, predictions):\n",
    "    tp = 0\n",
    "    fp = 0\n",
    "    fn = 0\n",
    "    for i in range(len(ground_truth)):\n",
    "        if ground_truth[i] == 1 and predictions[i] == 1:\n",
    "            tp += 1\n",
    "        elif ground_truth[i] == 0 and predictions[i] == 1:\n",
    "            fp += 1\n",
    "        elif ground_truth[i] == 1 and predictions[i] == 0:\n",
    "            fn += 1\n",
    "\n",
    "    precision = tp / (tp + fp) if (tp + fp) > 0 else 0\n",
    "    recall = tp / (tp + fn) if (tp + fn) > 0 else 0\n",
    "\n",
    "    if precision + recall == 0:\n",
    "        f1 = 0\n",
    "    else:\n",
    "        f1 = 2 * precision * recall / (precision + recall)\n",
    "    return f1\n",
    "\n",
    "with open(\"predictions_base_model.json\", \"r\") as f:\n",
    "    data = json.load(f)\n",
    "\n",
    "total_samples = len(data)\n",
    "\n",
    "ground_truth = []\n",
    "for i in range(total_samples):\n",
    "    if i < 1010:\n",
    "        ground_truth.append(0)\n",
    "    else:\n",
    "        ground_truth.append(1)\n",
    "\n",
    "predictions = []\n",
    "for item in data:\n",
    "    predictions.append(item[\"verdict\"])\n",
    "\n",
    "# Ensure lengths match for accurate comparison, though they should match based on the logic\n",
    "if len(ground_truth) != len(predictions):\n",
    "    print(\"Error: Length of ground_truth and predictions do not match. Please check data source.\")\n",
    "    # Adjust to the minimum length to prevent errors if mismatch occurs\n",
    "    min_len = min(len(ground_truth), len(predictions))\n",
    "    ground_truth = ground_truth[:min_len]\n",
    "    predictions = predictions[:min_len]\n",
    "\n",
    "# Calculate accuracy\n",
    "correct_predictions = sum(1 for i in range(len(ground_truth)) if ground_truth[i] == predictions[i])\n",
    "accuracy = correct_predictions / len(ground_truth) if len(ground_truth) > 0 else 0\n",
    "print(f\"Accuracy: {accuracy:.4f}\")\n",
    "\n",
    "# Calculate f1 score\n",
    "f1 = f1_score(ground_truth, predictions)\n",
    "print(f\"F1 Score: {f1:.4f}\")"
   ]
  },
  {
   "cell_type": "code",
   "execution_count": 14,
   "metadata": {},
   "outputs": [
    {
     "name": "stdout",
     "output_type": "stream",
     "text": [
      "0.9090909090909091\n",
      "0.9523809523809523\n"
     ]
    }
   ],
   "source": [
    "ground_truth = []\n",
    "for i in range(110):\n",
    "    if i < 10:\n",
    "        ground_truth.append(0)\n",
    "    else:\n",
    "        ground_truth.append(1)\n",
    "\n",
    "predictions = [1 for i in range(110)]\n",
    "\n",
    "# calculate accuracy\n",
    "accuracy = sum(1 for i in range(len(predictions)) if predictions[i] == ground_truth[i]) / len(predictions)\n",
    "print(accuracy)\n",
    "\n",
    "f1 = f1_score(ground_truth, predictions)\n",
    "print(f1)"
   ]
  },
  {
   "cell_type": "code",
   "execution_count": 10,
   "metadata": {},
   "outputs": [
    {
     "name": "stdout",
     "output_type": "stream",
     "text": [
      "0.7983798379837984\n",
      "0.8856442720032673\n"
     ]
    }
   ],
   "source": [
    "def f1_score(ground_truth, predictions):\n",
    "    tp = 0\n",
    "    fp = 0\n",
    "    fn = 0\n",
    "    for i in range(len(ground_truth)):\n",
    "        if ground_truth[i] == 1 and predictions[i] == 1:\n",
    "            tp += 1\n",
    "        elif ground_truth[i] == 0 and predictions[i] == 1:\n",
    "            fp += 1\n",
    "        elif ground_truth[i] == 1 and predictions[i] == 0:\n",
    "            fn += 1\n",
    "\n",
    "    precision = tp / (tp + fp) if (tp + fp) > 0 else 0\n",
    "    recall = tp / (tp + fn) if (tp + fn) > 0 else 0\n",
    "\n",
    "    if precision + recall == 0:\n",
    "        f1 = 0\n",
    "    else:\n",
    "        f1 = 2 * precision * recall / (precision + recall)\n",
    "    return f1\n",
    "\n",
    "with open(\"results/predictions.txt\", \"r\") as f:\n",
    "    predictions = f.readlines()\n",
    "\n",
    "ground_truth = []\n",
    "for i in range(11110):\n",
    "    if i < 1010:\n",
    "        ground_truth.append(0)\n",
    "    else:\n",
    "        ground_truth.append(1)\n",
    "\n",
    "predictions = [1 if \"fake\" in prediction else 0 for prediction in predictions]\n",
    "\n",
    "accuracy = sum(1 for i in range(len(predictions)) if predictions[i] == ground_truth[i]) / len(predictions)\n",
    "print(accuracy)\n",
    "\n",
    "f1 = f1_score(ground_truth, predictions)\n",
    "print(f1)"
   ]
  },
  {
   "cell_type": "code",
   "execution_count": 13,
   "metadata": {},
   "outputs": [
    {
     "name": "stdout",
     "output_type": "stream",
     "text": [
      "110 110\n",
      "0.8181818181818182\n",
      "0.8979591836734694\n"
     ]
    }
   ],
   "source": [
    "def f1_score(ground_truth, predictions):\n",
    "    tp = 0\n",
    "    fp = 0\n",
    "    fn = 0\n",
    "    for i in range(len(ground_truth)):\n",
    "        if ground_truth[i] == 1 and predictions[i] == 1:\n",
    "            tp += 1\n",
    "        elif ground_truth[i] == 0 and predictions[i] == 1:\n",
    "            fp += 1\n",
    "        elif ground_truth[i] == 1 and predictions[i] == 0:\n",
    "            fn += 1\n",
    "\n",
    "    precision = tp / (tp + fp) if (tp + fp) > 0 else 0\n",
    "    recall = tp / (tp + fn) if (tp + fn) > 0 else 0\n",
    "\n",
    "    if precision + recall == 0:\n",
    "        f1 = 0\n",
    "    else:\n",
    "        f1 = 2 * precision * recall / (precision + recall)\n",
    "    return f1\n",
    "\n",
    "with open(\"results/predictions.txt\", \"r\") as f:\n",
    "    predictions_txt = f.readlines()\n",
    "\n",
    "ground_truth = []\n",
    "for i in range(110):\n",
    "    if i < 10:\n",
    "        ground_truth.append(0)\n",
    "    else:\n",
    "        ground_truth.append(1)\n",
    "\n",
    "# predictions = [1 if \"fake\" in prediction else 0 for prediction in predictions]\n",
    "\n",
    "predictions = []\n",
    "\n",
    "for i in range(0, len(predictions_txt), 101):\n",
    "    p = sum(1 for j in range(i, i+101) if \"fake\" in predictions_txt[j])\n",
    "    predictions.append(1 if p > 50 else 0)\n",
    "    \n",
    "print(len(predictions), len(ground_truth))\n",
    "\n",
    "accuracy = sum(1 for i in range(len(predictions)) if predictions[i] == ground_truth[i]) / len(predictions)\n",
    "print(accuracy)\n",
    "\n",
    "f1 = f1_score(ground_truth, predictions)\n",
    "print(f1)"
   ]
  }
 ],
 "metadata": {
  "kernelspec": {
   "display_name": "dl",
   "language": "python",
   "name": "python3"
  },
  "language_info": {
   "codemirror_mode": {
    "name": "ipython",
    "version": 3
   },
   "file_extension": ".py",
   "mimetype": "text/x-python",
   "name": "python",
   "nbconvert_exporter": "python",
   "pygments_lexer": "ipython3",
   "version": "3.12.7"
  }
 },
 "nbformat": 4,
 "nbformat_minor": 2
}
